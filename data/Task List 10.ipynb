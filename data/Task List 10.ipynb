{
 "cells": [
  {
   "cell_type": "code",
   "execution_count": 1,
   "metadata": {},
   "outputs": [],
   "source": [
    "# imports\n",
    "import numpy as np\n",
    "import torch\n",
    "import pyro\n",
    "from pyro.distributions import Normal, Categorical\n",
    "from pyro.infer import SVI, Trace_ELBO\n",
    "from pyro.optim import Adam\n",
    "from tqdm import tqdm_notebook as tqdm\n",
    "from sklearn import preprocessing\n",
    "import pandas as pd\n",
    "import matplotlib.pyplot as plt\n",
    "from sklearn.model_selection import train_test_split\n",
    "import seaborn as sns\n",
    "import math\n",
    "from sklearn.naive_bayes import GaussianNB\n",
    "from sklearn.metrics import accuracy_score\n",
    "import warnings\n",
    "\n",
    "warnings.filterwarnings(\"ignore\")"
   ]
  },
  {
   "cell_type": "code",
   "execution_count": 2,
   "metadata": {},
   "outputs": [],
   "source": [
    "# data tools\n",
    "def read_glass():\n",
    "    all_csv = np.genfromtxt('glass.txt', delimiter=',')\n",
    "    attributes = np.array([\n",
    "        np.array(row[:-1])\n",
    "        for row in all_csv\n",
    "    ])\n",
    "    labels = np.array([\n",
    "        row[-1]\n",
    "        for row in all_csv\n",
    "    ])\n",
    "    return attributes, labels\n",
    "\n",
    "\n",
    "def read_iris():\n",
    "    all_csv = pd.read_csv(\"iris.txt\", header=None).values\n",
    "    attributes = np.array([\n",
    "        np.array(row[:-1])\n",
    "        for row in all_csv\n",
    "    ])\n",
    "    labels = np.array([\n",
    "        row[-1]\n",
    "        for row in all_csv\n",
    "    ])\n",
    "    return attributes, labels\n",
    "\n",
    "\n",
    "def read_wine():\n",
    "    all_csv = np.genfromtxt('wine.txt', delimiter=',')\n",
    "    attributes = np.array([\n",
    "        np.array(row[1:])\n",
    "        for row in all_csv\n",
    "    ])\n",
    "    labels = np.array([\n",
    "        row[0]\n",
    "        for row in all_csv\n",
    "    ])\n",
    "    return attributes, labels\n",
    "\n",
    "\n",
    "def get_label_converters(labels):\n",
    "    def prepare_two_array_dictionary(keys, values):\n",
    "        return dict(zip(keys, values))\n",
    "    unique_labels = np.unique(labels)\n",
    "    indexes = np.array(range(unique_labels.shape[0]))\n",
    "    return prepare_two_array_dictionary(unique_labels, indexes), prepare_two_array_dictionary(indexes, unique_labels)\n"
   ]
  },
  {
   "cell_type": "code",
   "execution_count": 3,
   "metadata": {},
   "outputs": [],
   "source": [
    "# declare data\n",
    "input_x, input_y = read_glass()\n",
    "label_to_numeric, numeric_to_label = get_label_converters(input_y)\n",
    "# normalized_x = preprocessing.normalize(input_x) to psuło całe zadanie\n",
    "numeric_y = np.array([label_to_numeric[it] for it in input_y])\n",
    "X_train, X_test, y_train, y_test = train_test_split(input_x, numeric_y, test_size=0.1)\n"
   ]
  },
  {
   "cell_type": "code",
   "execution_count": 4,
   "metadata": {},
   "outputs": [],
   "source": [
    "# bayes tools\n",
    "def get_labels_probability(labels):\n",
    "    labels_count = labels.shape[0]\n",
    "    unique, counts = np.unique(labels, return_counts=True)\n",
    "    return np.array([it / labels_count for it in counts])\n",
    "\n",
    "\n",
    "def get_predict_probability(attributes_to_predict, mi_matrix, sigma_matrix, label_probability):\n",
    "    def get_single_attribute_value(att_it, lab_it):\n",
    "        sigma = sigma_matrix[lab_it][att_it].detach().numpy()\n",
    "        # sigma can't be 0, se then will be nan in results, in this case better is very small value\n",
    "        if sigma == 0:\n",
    "            sigma = 0.000001\n",
    "        mi = mi_matrix[lab_it][att_it].detach().numpy()\n",
    "        attribute = attributes_to_predict[att_it]\n",
    "        exponent = np.exp(-(np.power(attribute - mi, 2) / (2 * np.power(sigma, 2))))\n",
    "        if math.isnan((1 / (np.sqrt(2 * np.pi) * sigma)) * exponent):\n",
    "            print('nan result', exponent, (1 / (np.sqrt(2 * np.pi) * sigma)))\n",
    "            print('next', sigma, mi, attribute)\n",
    "        return (1 / (np.sqrt(2 * np.pi) * sigma)) * exponent + 0.001\n",
    "\n",
    "    labels_count = mi_matrix.shape[0]\n",
    "    attributes_count = mi_matrix.shape[1]\n",
    "\n",
    "    return np.array([\n",
    "        label_probability[label_it] * np.array([\n",
    "            get_single_attribute_value(attribute_it, label_it)\n",
    "            for attribute_it in range(attributes_count)\n",
    "        ]).prod()\n",
    "        for label_it in range(labels_count)\n",
    "    ])\n",
    "\n",
    "\n",
    "def get_predict_probability_for_all(attributes_to_predict, mi_matrix, sigma_matrix, label_probability):\n",
    "    return np.array([\n",
    "        get_predict_probability(it, mi_matrix, sigma_matrix, label_probability)\n",
    "        for it in attributes_to_predict\n",
    "    ])\n",
    "\n",
    "\n",
    "def get_apriori_attributes_distribution(x_data, y_data):\n",
    "    def attributes_aggregate(data_matrix, aggregator):\n",
    "        return np.array([\n",
    "            [aggregator(attribute_values) for attribute_values in np.transpose(label_data)]\n",
    "            for label_data in data_matrix\n",
    "        ])\n",
    "\n",
    "    unique_labels = np.unique(y_data)\n",
    "    attributes_by_labels = np.array([\n",
    "        [data_row[0] for data_row in zip(x_data, y_data) if data_row[1] == label]\n",
    "        for label in unique_labels\n",
    "    ])\n",
    "    mi_matrix = attributes_aggregate(attributes_by_labels, lambda x: np.mean(x))\n",
    "    sigma_matrix = attributes_aggregate(attributes_by_labels, lambda x: np.std(x))\n",
    "    return mi_matrix, sigma_matrix\n"
   ]
  },
  {
   "cell_type": "code",
   "execution_count": 5,
   "metadata": {},
   "outputs": [],
   "source": [
    "# model definition\n",
    "def model(x_data, y_data):\n",
    "    # calculate dimension\n",
    "    attributes_count = x_data.shape[1]\n",
    "    labels_count = np.unique(y_data).shape[0]\n",
    "    model_shape = (labels_count, attributes_count)\n",
    "    \n",
    "    # calculate apriori\n",
    "    mi_apriori, sigma_apriori = get_apriori_attributes_distribution(x_data, y_data)\n",
    "\n",
    "    # prepared sampled mi and sigma matrix\n",
    "    prior_scale = torch.ones(model_shape) * 0.001\n",
    "    mi_matrix = pyro.sample('mi_matrix', Normal(loc=torch.from_numpy(mi_apriori).float(), scale=prior_scale))\n",
    "    sigma_matrix = pyro.sample('sigma_matrix', Normal(loc=torch.from_numpy(sigma_apriori).float(), scale=prior_scale))\n",
    "\n",
    "    # calculate labels probability (used in bayes)\n",
    "    labels_probability = get_labels_probability(y_data)\n",
    "\n",
    "    # calculate bayes probabilities\n",
    "    predict_probabilities = torch.Tensor(get_predict_probability_for_all(x_data, mi_matrix,\n",
    "                                                                         sigma_matrix, labels_probability))\n",
    "    # sample and observe\n",
    "    pyro.sample(\"obs\", Categorical(logits=predict_probabilities), obs=torch.tensor(y_data).float())\n"
   ]
  },
  {
   "cell_type": "code",
   "execution_count": 6,
   "metadata": {},
   "outputs": [],
   "source": [
    "# guide definition\n",
    "soft_plus = torch.nn.Softplus()\n",
    "\n",
    "\n",
    "def guide(x_data, y_data):\n",
    "    # calculate dimension\n",
    "    attributes_count = x_data.shape[1]\n",
    "    labels_count = np.unique(y_data).shape[0]\n",
    "    model_shape = (labels_count, attributes_count)\n",
    "\n",
    "    # calculate mi\n",
    "    mi_matrix_mi = torch.rand(model_shape)\n",
    "    mi_matrix_sigma = torch.rand(model_shape)\n",
    "    mi_matrix_mi_param = pyro.param(\"mi_matrix_mi\", mi_matrix_mi)\n",
    "    mi_matrix_sigma_param = soft_plus(pyro.param(\"mi_matrix_sigma\", mi_matrix_sigma))\n",
    "    mi_matrix_distribution = Normal(loc=mi_matrix_mi_param, scale=mi_matrix_sigma_param)\n",
    "\n",
    "    # calculate sigma\n",
    "    sigma_matrix_mi = torch.rand(model_shape)\n",
    "    sigma_matrix_sigma = torch.rand(model_shape)\n",
    "    sigma_matrix_mi_param = pyro.param(\"sigma_matrix_mi\", sigma_matrix_mi)\n",
    "    sigma_matrix_sigma_param = soft_plus(pyro.param(\"sigma_matrix_sigma\", sigma_matrix_sigma))\n",
    "    sigma_matrix_distribution = Normal(loc=sigma_matrix_mi_param, scale=sigma_matrix_sigma_param)\n",
    "\n",
    "    # sample mi and sigma matrix\n",
    "    return pyro.sample('mi_matrix', mi_matrix_distribution), pyro.sample('sigma_matrix', sigma_matrix_distribution)\n"
   ]
  },
  {
   "cell_type": "code",
   "execution_count": 7,
   "metadata": {},
   "outputs": [],
   "source": [
    "# train model definition\n",
    "losses, alpha_values, beta_values = [], [], []\n",
    "\n",
    "\n",
    "def train():\n",
    "    pyro.clear_param_store()\n",
    "    num_iterations = 100000\n",
    "    optim = pyro.optim.Adam({\"lr\": 0.01})\n",
    "    svi = SVI(model, guide, optim, loss=Trace_ELBO())\n",
    "    t = tqdm(range(num_iterations))\n",
    "    for j in t:\n",
    "        loss = svi.step(X_train, y_train)\n",
    "        t.set_postfix(loss=loss)\n",
    "        losses.append(loss)\n",
    "    return model, svi\n"
   ]
  },
  {
   "cell_type": "code",
   "execution_count": null,
   "metadata": {},
   "outputs": [
    {
     "data": {
      "application/vnd.jupyter.widget-view+json": {
       "model_id": "33782fcdcf2648d980565c5ebbb3f8cb",
       "version_major": 2,
       "version_minor": 0
      },
      "text/plain": [
       "HBox(children=(IntProgress(value=0, max=100000), HTML(value='')))"
      ]
     },
     "metadata": {},
     "output_type": "display_data"
    }
   ],
   "source": [
    "# run model train\n",
    "model, svi = train()\n"
   ]
  },
  {
   "cell_type": "code",
   "execution_count": 18,
   "metadata": {
    "scrolled": false
   },
   "outputs": [
    {
     "data": {
      "image/png": "[encoded data removed]",
      "text/plain": [
       "<Figure size 432x288 with 1 Axes>"
      ]
     },
     "metadata": {
      "needs_background": "light"
     },
     "output_type": "display_data"
    },
    {
     "data": {
      "image/png": "[encoded data removed]",
      "text/plain": [
       "<Figure size 432x288 with 1 Axes>"
      ]
     },
     "metadata": {
      "needs_background": "light"
     },
     "output_type": "display_data"
    },
    {
     "data": {
      "image/png": "[encoded data removed]",
      "text/plain": [
       "<Figure size 432x288 with 1 Axes>"
      ]
     },
     "metadata": {
      "needs_background": "light"
     },
     "output_type": "display_data"
    },
    {
     "data": {
      "image/png": "[encoded data removed]",
      "text/plain": [
       "<Figure size 432x288 with 1 Axes>"
      ]
     },
     "metadata": {
      "needs_background": "light"
     },
     "output_type": "display_data"
    },
    {
     "data": {
      "image/png": "[encoded data removed]",
      "text/plain": [
       "<Figure size 432x288 with 1 Axes>"
      ]
     },
     "metadata": {
      "needs_background": "light"
     },
     "output_type": "display_data"
    }
   ],
   "source": [
    "def show_ELBO_chart(from_iteration, to_iteration):\n",
    "    df = pd.DataFrame({'$a':np.arange(len(losses))[from_iteration:to_iteration] + 1, \n",
    "                       '$b': losses[from_iteration:to_iteration]})\n",
    "    df.columns = ['Iteration number', 'Error']\n",
    "    sns.lineplot(x='Iteration number', y='Error', data=df)\n",
    "    plt.show()\n",
    "\n",
    "\n",
    "show_ELBO_chart(0, 20000)\n",
    "show_ELBO_chart(20000, 40000)\n",
    "show_ELBO_chart(40000, 60000)\n",
    "show_ELBO_chart(60000, 80000)\n",
    "show_ELBO_chart(80000, 100000)"
   ]
  },
  {
   "cell_type": "code",
   "execution_count": 14,
   "metadata": {},
   "outputs": [
    {
     "name": "stdout",
     "output_type": "stream",
     "text": [
      "mi_matrix_mi tensor([[ 3.4099e+01,  1.5160e+00,  1.3251e+01,  3.5635e+00,  1.1586e+00,\n",
      "          7.2606e+01,  4.4713e-01,  8.7940e+00,  1.2081e-02,  6.2271e-02],\n",
      "        [ 1.0945e+02,  1.5191e+00,  1.3104e+01,  3.0483e+00,  1.3797e+00,\n",
      "          7.2678e+01,  5.2443e-01,  9.0262e+00,  1.0126e-02,  7.8018e-02],\n",
      "        [ 1.5453e+02,  1.5178e+00,  1.3392e+01,  3.5368e+00,  1.2213e+00,\n",
      "          7.2470e+01,  4.1509e-01,  8.7256e+00,  9.5484e-03,  6.6120e-02],\n",
      "        [ 1.7091e+02,  1.5209e+00,  1.2837e+01,  4.9898e-01,  1.9439e+00,\n",
      "          7.2545e+01,  1.5398e+00,  1.0392e+01,  2.0767e-02,  7.3502e-02],\n",
      "        [ 1.8100e+02,  1.5187e+00,  1.4646e+01,  1.3035e+00,  1.3681e+00,\n",
      "          7.3206e+01,  6.3999e-04,  9.3558e+00, -3.6641e-03,  1.1066e-03],\n",
      "        [ 2.0011e+02,  1.5173e+00,  1.4460e+01,  5.5702e-01,  2.1067e+00,\n",
      "          7.2958e+01,  3.3520e-01,  8.4586e+00,  1.0495e+00,  1.3385e-02]],\n",
      "       requires_grad=True)\n",
      "mi_matrix_sigma tensor([[-6.9237, -6.7898, -6.8438, -6.8135, -6.8822, -6.9652, -6.8036, -6.8786,\n",
      "         -6.8056, -6.9670],\n",
      "        [-6.8467, -6.9301, -6.8973, -7.0154, -6.8943, -6.9103, -6.9005, -6.9811,\n",
      "         -7.0447, -6.9880],\n",
      "        [-6.8819, -7.0500, -6.9924, -7.0219, -6.9160, -7.0192, -7.0367, -6.8777,\n",
      "         -6.9060, -6.8531],\n",
      "        [-6.8780, -7.0412, -6.9310, -6.8957, -6.8453, -6.7931, -6.8658, -6.8795,\n",
      "         -7.0010, -6.8423],\n",
      "        [-6.9817, -6.8924, -6.8468, -6.8864, -7.0094, -6.6756, -6.8681, -6.9467,\n",
      "         -6.8466, -6.8596],\n",
      "        [-6.9096, -6.9449, -6.9516, -6.9188, -6.8855, -6.9899, -6.8794, -6.9066,\n",
      "         -6.9683, -6.8869]], requires_grad=True)\n",
      "sigma_matrix_mi tensor([[ 2.0358e+01,  2.4775e-03,  5.1305e-01,  2.4692e-01,  2.8870e-01,\n",
      "          5.8716e-01,  2.1371e-01,  5.7805e-01,  9.0102e-02,  9.0852e-02],\n",
      "        [ 2.1441e+01,  2.4573e-03,  5.8252e-01,  1.1446e+00,  3.0608e-01,\n",
      "          6.3616e-01,  2.1146e-01,  1.8410e+00,  4.0393e-02,  1.0468e-01],\n",
      "        [ 5.0318e+00,  5.0247e-04,  4.9747e-01,  1.5479e-01,  3.0854e-01,\n",
      "          4.9377e-01,  2.2195e-01,  3.1586e-01,  3.5905e-02,  1.1110e-01],\n",
      "        [ 3.3136e+00,  3.0146e-03,  6.2197e-01,  7.5771e-01,  5.4945e-01,\n",
      "          1.0863e+00,  2.2098e+00,  1.8262e+00,  7.0175e-02,  1.6098e-01],\n",
      "        [ 2.5863e+00,  6.9749e-04,  1.0210e+00,  1.0343e+00,  5.3753e-01,\n",
      "          1.0195e+00,  4.8063e-04,  1.3655e+00, -2.5898e-03, -1.3037e-03],\n",
      "        [ 8.4945e+00,  1.5829e-03,  6.7706e-01,  1.1117e+00,  4.3523e-01,\n",
      "          9.4015e-01,  6.7015e-01,  9.5923e-01,  6.6531e-01,  2.9365e-02]],\n",
      "       requires_grad=True)\n",
      "sigma_matrix_sigma tensor([[-6.8960, -6.8308, -6.9178, -6.9048, -6.8967, -7.0271, -6.7982, -6.8517,\n",
      "         -6.9370, -7.0511],\n",
      "        [-6.9289, -6.9790, -6.9397, -7.0667, -7.0782, -6.9079, -6.8857, -6.9270,\n",
      "         -7.0451, -6.9765],\n",
      "        [-6.7773, -6.8527, -6.7985, -6.9662, -6.9713, -6.9150, -6.7120, -7.0215,\n",
      "         -6.9207, -6.8663],\n",
      "        [-7.0073, -6.9230, -6.9213, -6.8275, -6.9101, -6.9333, -6.9484, -6.8022,\n",
      "         -6.8309, -6.8618],\n",
      "        [-6.9309, -6.9194, -6.9816, -6.9174, -6.8879, -6.9015, -6.9543, -6.7511,\n",
      "         -6.9324, -6.8707],\n",
      "        [-6.9931, -6.9351, -6.8608, -6.8950, -6.9733, -6.9142, -6.8992, -6.8558,\n",
      "         -7.0105, -7.0128]], requires_grad=True)\n"
     ]
    }
   ],
   "source": [
    "# Watrości parametrów\n",
    "for name, value in pyro.get_param_store().items():\n",
    "    print(name, pyro.param(name))"
   ]
  },
  {
   "cell_type": "code",
   "execution_count": 15,
   "metadata": {},
   "outputs": [
    {
     "name": "stdout",
     "output_type": "stream",
     "text": [
      "Accuracy dla wyuczonych parametrów Naive Bayes opartego o rozkład Gaussa: 68.18181818181817 %\n"
     ]
    }
   ],
   "source": [
    "# Test predykcji dla wyuczonych parametrów\n",
    "mu,sigma=guide(X_train,y_train)\n",
    "pred = get_predict_probability_for_all(X_test,mu,sigma, get_labels_probability(y_train))\n",
    "predicted_labels=[np.argmax(pred_it) for pred_it in pred]\n",
    "accuracy=accuracy_score(y_test, predicted_labels)\n",
    "print('Accuracy dla wyuczonych parametrów Naive Bayes opartego o rozkład Gaussa:', 100*accuracy, \"%\")"
   ]
  },
  {
   "cell_type": "code",
   "execution_count": 16,
   "metadata": {},
   "outputs": [
    {
     "name": "stdout",
     "output_type": "stream",
     "text": [
      "Accuracy dla klasycznego Naive Bayes opartego o rozkład Gaussa: 86.36363636363636 %\n"
     ]
    }
   ],
   "source": [
    "# Test dla klasycznego Bayesa\n",
    "gnb = GaussianNB()\n",
    "y_pred = gnb.fit(X_train, y_train).predict(X_test)\n",
    "\n",
    "print('Accuracy dla klasycznego Naive Bayes opartego o rozkład Gaussa:', accuracy_score(y_test, y_pred) * 100, \"%\")"
   ]
  },
  {
   "cell_type": "code",
   "execution_count": null,
   "metadata": {},
   "outputs": [],
   "source": []
  }
 ],
 "metadata": {
  "kernelspec": {
   "display_name": "Python 3",
   "language": "python",
   "name": "python3"
  },
  "language_info": {
   "codemirror_mode": {
    "name": "ipython",
    "version": 3
   },
   "file_extension": ".py",
   "mimetype": "text/x-python",
   "name": "python",
   "nbconvert_exporter": "python",
   "pygments_lexer": "ipython3",
   "version": "3.7.1"
  }
 },
 "nbformat": 4,
 "nbformat_minor": 2
}
